{
 "cells": [
  {
   "cell_type": "code",
   "execution_count": 9,
   "metadata": {},
   "outputs": [
    {
     "ename": "ValueError",
     "evalue": "not enough values to unpack (expected 2, got 0)",
     "output_type": "error",
     "traceback": [
      "\u001b[1;31m---------------------------------------------------------------------------\u001b[0m",
      "\u001b[1;31mValueError\u001b[0m                                Traceback (most recent call last)",
      "Cell \u001b[1;32mIn[9], line 1\u001b[0m\n\u001b[1;32m----> 1\u001b[0m a, b \u001b[39m=\u001b[39m \u001b[39minput\u001b[39m()\u001b[39m.\u001b[39msplit()\n\u001b[0;32m      2\u001b[0m a \u001b[39m=\u001b[39m \u001b[39mint\u001b[39m(a)\n\u001b[0;32m      3\u001b[0m b \u001b[39m=\u001b[39m \u001b[39mint\u001b[39m(b)\n",
      "\u001b[1;31mValueError\u001b[0m: not enough values to unpack (expected 2, got 0)"
     ]
    }
   ],
   "source": [
    "a, b = input().split()\n",
    "a = int(a)\n",
    "b = int(b)\n",
    "\n",
    "if a > b:\n",
    "    print('>')\n",
    "if a < b:\n",
    "    print('<')\n",
    "if a == b:\n",
    "    print('==') \n"
   ]
  },
  {
   "cell_type": "code",
   "execution_count": 15,
   "metadata": {},
   "outputs": [
    {
     "name": "stdout",
     "output_type": "stream",
     "text": [
      "F\n"
     ]
    }
   ],
   "source": [
    "#2\n",
    "score = input()\n",
    "score = int(score)\n",
    "\n",
    "if 90 <= score <= 100:\n",
    "    print('A')\n",
    "elif 80 <= score < 90:\n",
    "    print('B')\n",
    "elif 70 <= score < 80:\n",
    "    print('C')\n",
    "elif 60 <= score < 70:\n",
    "    print('D')\n",
    "else:\n",
    "    print('F')"
   ]
  },
  {
   "cell_type": "code",
   "execution_count": 29,
   "metadata": {},
   "outputs": [
    {
     "ename": "ValueError",
     "evalue": "not enough values to unpack (expected 2, got 0)",
     "output_type": "error",
     "traceback": [
      "\u001b[1;31m---------------------------------------------------------------------------\u001b[0m",
      "\u001b[1;31mValueError\u001b[0m                                Traceback (most recent call last)",
      "Cell \u001b[1;32mIn[29], line 2\u001b[0m\n\u001b[0;32m      1\u001b[0m \u001b[39m#5\u001b[39;00m\n\u001b[1;32m----> 2\u001b[0m h, m \u001b[39m=\u001b[39m \u001b[39minput\u001b[39m()\u001b[39m.\u001b[39msplit()\n\u001b[0;32m      3\u001b[0m h \u001b[39m=\u001b[39m \u001b[39mint\u001b[39m(h)\n\u001b[0;32m      4\u001b[0m m \u001b[39m=\u001b[39m \u001b[39mint\u001b[39m(m)\n",
      "\u001b[1;31mValueError\u001b[0m: not enough values to unpack (expected 2, got 0)"
     ]
    }
   ],
   "source": [
    "#5\n",
    "h, m = input().split()\n",
    "h = int(h)\n",
    "m = int(m)\n",
    "\n",
    "if m - 45 >= 0:\n",
    "    m -= 45 \n",
    "    print(h, m)\n",
    "else:\n",
    "    h -= 1\n",
    "    if h == -1:\n",
    "        h = 23\n",
    "    m = 60 + (m-45)\n",
    "    print(h, m)"
   ]
  },
  {
   "cell_type": "code",
   "execution_count": null,
   "metadata": {},
   "outputs": [],
   "source": [
    "#6\n",
    "h, m = input().split()\n",
    "t = input()\n",
    "h = int(h)\n",
    "m = int(m)\n",
    "t = int(t)\n",
    "\n",
    "if m + t < 60:\n",
    "    m += t\n",
    "    print(h, m)\n",
    "else:\n",
    "    h += (m + t) // 60\n",
    "    m = (m + t) % 60\n",
    "    if h >= 24:\n",
    "        h -= 24\n",
    "    print(h, m)\n"
   ]
  },
  {
   "cell_type": "code",
   "execution_count": 1,
   "metadata": {},
   "outputs": [
    {
     "ename": "ValueError",
     "evalue": "not enough values to unpack (expected 3, got 2)",
     "output_type": "error",
     "traceback": [
      "\u001b[1;31m---------------------------------------------------------------------------\u001b[0m",
      "\u001b[1;31mValueError\u001b[0m                                Traceback (most recent call last)",
      "Cell \u001b[1;32mIn[1], line 2\u001b[0m\n\u001b[0;32m      1\u001b[0m \u001b[39m#7\u001b[39;00m\n\u001b[1;32m----> 2\u001b[0m a, b, c \u001b[39m=\u001b[39m \u001b[39minput\u001b[39m()\u001b[39m.\u001b[39msplit()\n\u001b[0;32m      3\u001b[0m a \u001b[39m=\u001b[39m \u001b[39mint\u001b[39m(a)\n\u001b[0;32m      4\u001b[0m b \u001b[39m=\u001b[39m \u001b[39mint\u001b[39m(b)\n",
      "\u001b[1;31mValueError\u001b[0m: not enough values to unpack (expected 3, got 2)"
     ]
    }
   ],
   "source": [
    "#7\n",
    "a, b, c = input().split()\n",
    "a = int(a)\n",
    "b = int(b)\n",
    "c = int(c)\n",
    "\n",
    "if a == b == c:\n",
    "    print(10000 + a * 1000)\n",
    "elif a == b or a == c:\n",
    "    print(1000 + a * 100)\n",
    "elif b == c:\n",
    "    print(1000 + b * 100)\n",
    "else:\n",
    "    if a > b and a > c:\n",
    "        print(a*100)\n",
    "    elif b > c:\n",
    "        print(b*100)\n",
    "    else:\n",
    "        print(c*100)\n",
    "\n"
   ]
  },
  {
   "cell_type": "code",
   "execution_count": 4,
   "metadata": {},
   "outputs": [
    {
     "ename": "ValueError",
     "evalue": "invalid literal for int() with base 10: ''",
     "output_type": "error",
     "traceback": [
      "\u001b[1;31m---------------------------------------------------------------------------\u001b[0m",
      "\u001b[1;31mValueError\u001b[0m                                Traceback (most recent call last)",
      "Cell \u001b[1;32mIn[4], line 5\u001b[0m\n\u001b[0;32m      2\u001b[0m x \u001b[39m=\u001b[39m \u001b[39minput\u001b[39m()\n\u001b[0;32m      3\u001b[0m y \u001b[39m=\u001b[39m \u001b[39minput\u001b[39m()\n\u001b[1;32m----> 5\u001b[0m x \u001b[39m=\u001b[39m \u001b[39mint\u001b[39;49m(x)\n\u001b[0;32m      6\u001b[0m y \u001b[39m=\u001b[39m \u001b[39mint\u001b[39m(y)\n\u001b[0;32m      8\u001b[0m \u001b[39mif\u001b[39;00m x \u001b[39m>\u001b[39m \u001b[39m0\u001b[39m \u001b[39mand\u001b[39;00m y \u001b[39m>\u001b[39m \u001b[39m0\u001b[39m:\n",
      "\u001b[1;31mValueError\u001b[0m: invalid literal for int() with base 10: ''"
     ]
    }
   ],
   "source": [
    "#14681\n",
    "x = input()\n",
    "y = input()\n",
    "\n",
    "x = int(x)\n",
    "y = int(y)\n",
    "\n",
    "if x > 0 and y > 0:\n",
    "    print(1)\n",
    "elif x < 0 and y > 0:\n",
    "    print(2)\n",
    "elif x < 0 and y < 0:\n",
    "    print(3)\n",
    "elif x > 0 and y < 0:\n",
    "    print(4)\n",
    "\n",
    "    "
   ]
  },
  {
   "cell_type": "code",
   "execution_count": 13,
   "metadata": {},
   "outputs": [
    {
     "ename": "ValueError",
     "evalue": "invalid literal for int() with base 10: ''",
     "output_type": "error",
     "traceback": [
      "\u001b[1;31m---------------------------------------------------------------------------\u001b[0m",
      "\u001b[1;31mValueError\u001b[0m                                Traceback (most recent call last)",
      "Cell \u001b[1;32mIn[13], line 3\u001b[0m\n\u001b[0;32m      1\u001b[0m \u001b[39m#2753\u001b[39;00m\n\u001b[0;32m      2\u001b[0m year \u001b[39m=\u001b[39m \u001b[39minput\u001b[39m()\n\u001b[1;32m----> 3\u001b[0m year \u001b[39m=\u001b[39m \u001b[39mint\u001b[39;49m(year)\n\u001b[0;32m      5\u001b[0m \u001b[39mif\u001b[39;00m year \u001b[39m%\u001b[39m \u001b[39m4\u001b[39m \u001b[39m==\u001b[39m \u001b[39m0\u001b[39m \u001b[39mand\u001b[39;00m year \u001b[39m%\u001b[39m \u001b[39m100\u001b[39m \u001b[39m!=\u001b[39m \u001b[39m0\u001b[39m \u001b[39mor\u001b[39;00m year \u001b[39m%\u001b[39m \u001b[39m400\u001b[39m \u001b[39m==\u001b[39m \u001b[39m0\u001b[39m:\n\u001b[0;32m      6\u001b[0m     \u001b[39mprint\u001b[39m(\u001b[39m1\u001b[39m)\n",
      "\u001b[1;31mValueError\u001b[0m: invalid literal for int() with base 10: ''"
     ]
    }
   ],
   "source": [
    "#2753\n",
    "year = input()\n",
    "year = int(year)\n",
    "\n",
    "if year % 4 == 0 and year % 100 != 0 or year % 400 == 0:\n",
    "    print(1)\n",
    "else:\n",
    "    print(0)\n"
   ]
  },
  {
   "cell_type": "code",
   "execution_count": 32,
   "metadata": {},
   "outputs": [
    {
     "ename": "ValueError",
     "evalue": "invalid literal for int() with base 10: ''",
     "output_type": "error",
     "traceback": [
      "\u001b[1;31m---------------------------------------------------------------------------\u001b[0m",
      "\u001b[1;31mValueError\u001b[0m                                Traceback (most recent call last)",
      "Cell \u001b[1;32mIn[32], line 3\u001b[0m\n\u001b[0;32m      1\u001b[0m \u001b[39m#1110\u001b[39;00m\n\u001b[0;32m      2\u001b[0m n \u001b[39m=\u001b[39m \u001b[39minput\u001b[39m()\n\u001b[1;32m----> 3\u001b[0m n  \u001b[39m=\u001b[39m \u001b[39mint\u001b[39;49m(n)\n\u001b[0;32m      5\u001b[0m result \u001b[39m=\u001b[39m n\n\u001b[0;32m      6\u001b[0m count \u001b[39m=\u001b[39m \u001b[39m1\u001b[39m\n",
      "\u001b[1;31mValueError\u001b[0m: invalid literal for int() with base 10: ''"
     ]
    }
   ],
   "source": [
    "#1110\n",
    "n = input()\n",
    "n  = int(n)\n",
    "\n",
    "result = n\n",
    "count = 1\n",
    "while True:\n",
    "    x = n // 10\n",
    "    y = n % 10\n",
    "    i = (x + y) % 10 \n",
    "    y = y * 10\n",
    "    n = y + i\n",
    "    if result == n:\n",
    "        break\n",
    "    count += 1\n",
    "print(count)\n",
    "\n"
   ]
  },
  {
   "cell_type": "code",
   "execution_count": 42,
   "metadata": {},
   "outputs": [
    {
     "name": "stdout",
     "output_type": "stream",
     "text": [
      "☆☆☆☆★\n",
      "☆☆☆★★\n",
      "☆☆★★★\n",
      "☆★★★★\n",
      "★★★★★\n"
     ]
    }
   ],
   "source": [
    "#2438\n",
    "\n",
    "\n",
    "\n"
   ]
  }
 ],
 "metadata": {
  "kernelspec": {
   "display_name": "Python 3",
   "language": "python",
   "name": "python3"
  },
  "language_info": {
   "codemirror_mode": {
    "name": "ipython",
    "version": 3
   },
   "file_extension": ".py",
   "mimetype": "text/x-python",
   "name": "python",
   "nbconvert_exporter": "python",
   "pygments_lexer": "ipython3",
   "version": "3.11.1 (tags/v3.11.1:a7a450f, Dec  6 2022, 19:58:39) [MSC v.1934 64 bit (AMD64)]"
  },
  "orig_nbformat": 4,
  "vscode": {
   "interpreter": {
    "hash": "ca3167030a8377a7b82d5e665b459d458267ba920e721652be188ae573e682bb"
   }
  }
 },
 "nbformat": 4,
 "nbformat_minor": 2
}
