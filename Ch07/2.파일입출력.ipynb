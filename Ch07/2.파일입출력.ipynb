{
 "cells": [
  {
   "cell_type": "code",
   "execution_count": 1,
   "metadata": {},
   "outputs": [
    {
     "data": {
      "text/plain": [
       "'\\n날짜 : 2023/01/12\\n이름 : 진윤희\\n내용 : 파이썬 파일입출력 실습하기\\n'"
      ]
     },
     "execution_count": 1,
     "metadata": {},
     "output_type": "execute_result"
    }
   ],
   "source": [
    "\"\"\"\n",
    "날짜 : 2023/01/12\n",
    "이름 : 진윤희\n",
    "내용 : 파이썬 파일입출력 실습하기\n",
    "\"\"\""
   ]
  },
  {
   "cell_type": "code",
   "execution_count": 7,
   "metadata": {},
   "outputs": [
    {
     "name": "stdout",
     "output_type": "stream",
     "text": [
      "Hello World!\n",
      "Hello Python!\n"
     ]
    }
   ],
   "source": [
    "# 파일 읽기 (입력)\n",
    "f1 = open('c:/Users/java1/Desktop/Text.txt', mode='r', encoding='utf-8')\n",
    "\n",
    "while True:\n",
    "    line = f1.read()\n",
    "\n",
    "    if not line:\n",
    "        break\n",
    "\n",
    "    print(line)\n",
    "\n",
    "f1.close()"
   ]
  },
  {
   "cell_type": "code",
   "execution_count": 10,
   "metadata": {},
   "outputs": [],
   "source": [
    "# 파일 쓰기\n",
    "f2 = open('c:/Users/java1/Desktop/Text.txt', mode='w', encoding='utf-8')\n",
    "f2.write('안녕하세요.\\n')\n",
    "f2.write('반갑습니다.\\n')\n",
    "f2.write('감사합니다.\\n')\n",
    "f2.close()"
   ]
  },
  {
   "cell_type": "code",
   "execution_count": 16,
   "metadata": {},
   "outputs": [],
   "source": [
    "# 구구단 쓰기\n",
    "f3 = open('c:/Users/java1/Desktop/Gugudan.txt', mode='w', encoding='utf-8')\n",
    "\n",
    "\n",
    "for x in range (2, 10):\n",
    "    f3.write('\\n%d단\\n' % x)\n",
    "    \n",
    "    for y in range (1, 10):\n",
    "        z = x*y\n",
    "        f3.write('%d x %d = %d\\n' % (x, y, z))\n",
    "\n",
    "f3.close()        "
   ]
  },
  {
   "cell_type": "code",
   "execution_count": null,
   "metadata": {},
   "outputs": [],
   "source": [
    "# 구구단 읽기\n",
    "f4 = open('c:/Users/java1/Desktop/Gugudan.txt', mode='r', encoding='utf-8')\n",
    "\n",
    "while True:\n",
    "    line = f1.read()\n",
    "\n",
    "    if not line:\n",
    "        break\n",
    "\n",
    "    print(line)\n",
    "\n",
    "f4.close()"
   ]
  }
 ],
 "metadata": {
  "kernelspec": {
   "display_name": "Python 3",
   "language": "python",
   "name": "python3"
  },
  "language_info": {
   "codemirror_mode": {
    "name": "ipython",
    "version": 3
   },
   "file_extension": ".py",
   "mimetype": "text/x-python",
   "name": "python",
   "nbconvert_exporter": "python",
   "pygments_lexer": "ipython3",
   "version": "3.11.1"
  },
  "orig_nbformat": 4,
  "vscode": {
   "interpreter": {
    "hash": "ca3167030a8377a7b82d5e665b459d458267ba920e721652be188ae573e682bb"
   }
  }
 },
 "nbformat": 4,
 "nbformat_minor": 2
}
